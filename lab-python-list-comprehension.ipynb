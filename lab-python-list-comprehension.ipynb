{
 "cells": [
  {
   "cell_type": "markdown",
   "id": "25d7736c-ba17-4aff-b6bb-66eba20fbf4e",
   "metadata": {},
   "source": [
    "# Lab | List, Dict and Set Comprehension"
   ]
  },
  {
   "cell_type": "markdown",
   "id": "7dd3cbde-675a-4b81-92c3-f728846dbe06",
   "metadata": {},
   "source": [
    "## Exercise: Managing Customer Orders Optimized with Comprehension"
   ]
  },
  {
   "cell_type": "markdown",
   "id": "5d500160-2fb7-4777-b5e4-09d45ebaf328",
   "metadata": {},
   "source": [
    "In the previous exercise, you developed a program to manage customer orders and inventory. Now, let's take it a step further and incorporate comprehension into your code.\n",
    "\n",
    "Follow the steps below to complete the exercise:\n",
    "\n",
    "1. Review your code from the previous exercise and identify areas where you can apply comprehension to simplify and streamline your code. \n",
    "\n",
    "    - *Hint: Apply it to initialize inventory, updating the inventory and printing the updated inventory.*\n",
    "    \n",
    "    - For example, in initializing the inventory, we could have:\n",
    "    \n",
    "        ```python\n",
    "        def initialize_inventory(products):\n",
    "            inventory = {product: int(input(f\"Enter the quantity of {product}s available: \")) for product in products}\n",
    "            return inventory\n",
    "\n",
    "        ```\n",
    "<br>\n",
    "    \n",
    "    \n",
    "2. Modify the function get_customer_orders so it prompts the user to enter the number of customer orders and gathers the product names using a loop and user input. Use comprehension.\n",
    "\n",
    "3. Add a new function to calculate the total price of the customer order. For each product in customer_orders, prompt the user to enter the price of that product. Use comprehension to calculate the total price. Note: assume that the user can only have 1 unit of each product.\n",
    "\n",
    "4. Modify the update_inventory function to remove the product from the inventory if its quantity becomes zero after fulfilling the customer orders. Use comprehension to filter out the products with a quantity of zero from the inventory.\n",
    "\n",
    "5. Print the total price of the customer order.\n",
    "\n",
    "Your code should produce output similar to the following:\n",
    "\n",
    "```python\n",
    "Enter the quantity of t-shirts available:  5\n",
    "Enter the quantity of mugs available:  4\n",
    "Enter the quantity of hats available:  3\n",
    "Enter the quantity of books available:  2\n",
    "Enter the quantity of keychains available:  1\n",
    "Enter the number of customer orders:  2\n",
    "Enter the name of a product that a customer wants to order:  hat\n",
    "Enter the name of a product that a customer wants to order:  keychain\n",
    "\n",
    "Order Statistics:\n",
    "Total Products Ordered: 2\n",
    "Percentage of Unique Products Ordered: 40.0\n",
    "\n",
    "Updated Inventory:\n",
    "t-shirt: 5\n",
    "mug: 4\n",
    "hat: 2\n",
    "book: 2\n",
    "Enter the price of keychain:  5\n",
    "Enter the price of hat:  10\n",
    "Total Price: 15.0\n",
    "\n",
    "```\n"
   ]
  },
  {
   "cell_type": "code",
   "execution_count": 11,
   "id": "147c3987-eaea-4957-bc6b-9d2d10dfadb6",
   "metadata": {},
   "outputs": [],
   "source": [
    "#1\n",
    "products = [\"t-shirt\", \"mug\", \"hat\", \"book\", \"keychain\"]\n",
    "\n",
    "def initialize_inventory(products):\n",
    "    return {\n",
    "        product: int(input(f\"Enter the quantity of {product}s available: \"))\n",
    "        for product in products\n",
    "    }\n"
   ]
  },
  {
   "cell_type": "code",
   "execution_count": 13,
   "id": "0f5a8fe8-9b3b-4059-ba16-56f6ce5311d5",
   "metadata": {},
   "outputs": [
    {
     "name": "stdin",
     "output_type": "stream",
     "text": [
      "Enter the number of customer orders:  3\n",
      "Enter the name of a product that a cstomer wants to order:  hat\n",
      "Enter the name of a product that a cstomer wants to order:  mug\n",
      "Enter the name of a product that a cstomer wants to order:  keychain\n"
     ]
    },
    {
     "name": "stdout",
     "output_type": "stream",
     "text": [
      "Customer orders: {'mug', 'hat', 'keychain'}\n"
     ]
    }
   ],
   "source": [
    "#2\n",
    "\n",
    "def get_customer_orders(products):\n",
    "    num_orders = int(input(\"Enter the number of customer orders: \"))\n",
    "    customer_orders = {\n",
    "        input(\"Enter the name of a product that a cstomer wants to order: \") \n",
    "        for _ in range(num_orders)\n",
    "    }\n",
    "\n",
    "    return customer_orders\n",
    "\n",
    "customer_orders = get_customer_orders(products)\n",
    "print(\"Customer orders:\", customer_orders)"
   ]
  },
  {
   "cell_type": "code",
   "execution_count": 15,
   "id": "568c32f8-dae5-4497-9d08-86a1ddc4242c",
   "metadata": {},
   "outputs": [
    {
     "name": "stdin",
     "output_type": "stream",
     "text": [
      "Enter the price of mug:  5\n",
      "Enter the price of hat:  4\n",
      "Enter the price of keychain:  3\n"
     ]
    },
    {
     "name": "stdout",
     "output_type": "stream",
     "text": [
      "Total price of the customer order: 12.0\n"
     ]
    }
   ],
   "source": [
    "#3\n",
    "def calculate_total_price(customer_orders):\n",
    "    prices = {\n",
    "        product: float(input(f\"Enter the price of {product}: \"))\n",
    "        for product in customer_orders\n",
    "    }\n",
    "\n",
    "    total_price = sum(prices.values())\n",
    "    return total_price\n",
    "\n",
    "total_price = calculate_total_price(customer_orders)\n",
    "print(\"Total price of the customer order:\", total_price)"
   ]
  },
  {
   "cell_type": "code",
   "execution_count": 17,
   "id": "23b7e15a-157b-468b-b1c3-770c31e6d09d",
   "metadata": {},
   "outputs": [
    {
     "name": "stdin",
     "output_type": "stream",
     "text": [
      "Enter the quantity of t-shirts available:  5\n",
      "Enter the quantity of mugs available:  5\n",
      "Enter the quantity of hats available:  5\n",
      "Enter the quantity of books available:  5\n",
      "Enter the quantity of keychains available:  5\n",
      "Enter the number of customer orders:  3\n",
      "Enter the name of a product that a cstomer wants to order:  keychain\n",
      "Enter the name of a product that a cstomer wants to order:  mug\n",
      "Enter the name of a product that a cstomer wants to order:  hat\n"
     ]
    },
    {
     "name": "stdout",
     "output_type": "stream",
     "text": [
      "Updated inventory:\n",
      "t-shirt: 5\n",
      "mug: 4\n",
      "hat: 4\n",
      "book: 5\n",
      "keychain: 4\n"
     ]
    }
   ],
   "source": [
    "#4\n",
    "def update_inventory(customer_orders, inventory):\n",
    "    for product in customer_orders:\n",
    "        if product in inventory and inventory[product] > 0:\n",
    "            inventory[product] -= 1\n",
    "\n",
    "    inventory = {product: quantity for product, quantity in inventory.items() if quantity > 0}\n",
    "    return inventory\n",
    "\n",
    "inventory = initialize_inventory(products)\n",
    "customer_orders = get_customer_orders(products)\n",
    "inventory = update_inventory(customer_orders, inventory)\n",
    "\n",
    "print(\"Updated inventory:\")\n",
    "for item in inventory:\n",
    "    print(item + \":\", inventory[item])"
   ]
  },
  {
   "cell_type": "code",
   "execution_count": 19,
   "id": "b7c1255d-b443-412a-acbf-8d416c10a2f6",
   "metadata": {},
   "outputs": [
    {
     "name": "stdin",
     "output_type": "stream",
     "text": [
      "Enter the price of mug:  5\n",
      "Enter the price of hat:  4\n",
      "Enter the price of keychain:  3\n"
     ]
    },
    {
     "name": "stdout",
     "output_type": "stream",
     "text": [
      "Total price of the customer order: 12.0\n"
     ]
    }
   ],
   "source": [
    "#5\n",
    "def calculate_total_price(customer_orders):\n",
    "    prices = {\n",
    "        product: float(input(f\"Enter the price of {product}: \"))\n",
    "        for product in customer_orders\n",
    "    }\n",
    "\n",
    "    total_price = sum(prices.values())\n",
    "    return total_price\n",
    "\n",
    "total_price = calculate_total_price(customer_orders)\n",
    "print(\"Total price of the customer order:\", total_price)"
   ]
  }
 ],
 "metadata": {
  "kernelspec": {
   "display_name": "Python 3 (ipykernel)",
   "language": "python",
   "name": "python3"
  },
  "language_info": {
   "codemirror_mode": {
    "name": "ipython",
    "version": 3
   },
   "file_extension": ".py",
   "mimetype": "text/x-python",
   "name": "python",
   "nbconvert_exporter": "python",
   "pygments_lexer": "ipython3",
   "version": "3.12.7"
  }
 },
 "nbformat": 4,
 "nbformat_minor": 5
}
